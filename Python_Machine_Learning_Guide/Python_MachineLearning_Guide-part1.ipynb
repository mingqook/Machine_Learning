{
 "cells": [
  {
   "cell_type": "markdown",
   "id": "wound-bullet",
   "metadata": {},
   "source": [
    "# 파이썬 머신러닝 완벽가이드 - part1 "
   ]
  },
  {
   "cell_type": "markdown",
   "id": "serial-salvation",
   "metadata": {},
   "source": [
    "#### sklearn을 중심으로 python에서 ML을 다루는 과정에 대해 정리하였습니다.\n",
    "#### Python 3.7 버전에서 작성되었으며, 파이썬 머신러닝 완벽 가이드(권철민 지음)을 참고하여 작성하였습니다."
   ]
  },
  {
   "cell_type": "markdown",
   "id": "small-rover",
   "metadata": {},
   "source": [
    "## 1. 파이썬 기반의 머신러닝과 생태계 이해\n",
    "### 1.1 머신러닝의 개념\n",
    "#### - 머신러닝은 애플리케이션을 수정하지 않고도 데이터를 기반으로 패턴을 학습하고 결과를 예측하는 알고리즘 기법을 통칭\n",
    "#### - 복잡한 조건/규칙들이 다양한 형태로 결합하고 시시각각 변하면서 도저히 소프트웨어 코드로 로직을 구성하여 패턴을 찾기 어려울 떄, 머신러닝은 훌륭한 솔루션을 제공\n",
    "#### - 머신러닝 알고리즘은 데이터를 기반으로 통계적인 신뢰도를 강화하고, 예측 오류를 최고화하기 위한 다양한 수학적 기법을 적용해 데이터 내의 패턴을 스스로 인지하고 신뢰도 있는 예측 결과를 도출\n",
    "#### - 머신러닝은 데이터를 관통하는 패턴을 학습하고, 예측을 수행하며 데이터 분석 영역에 새로운 혁신을 가져 옴\n",
    "#### - 데이터 분석 영역은 재빠르게 머신러닝 기반의 예측 분석으로 재편되고 있다. \n",
    "#### - 많은 데이터 분석가와 데이터 과학자가 머신러닝 알고리즘 기반의 새로운 예측 모델을 이용해 더욱 정확한 예측 및 의사 결정을 도출"
   ]
  },
  {
   "cell_type": "markdown",
   "id": "natural-slovakia",
   "metadata": {},
   "source": [
    "#### 1.1.1 머신러닝의 분류 \n",
    "#### - 지도학습 : 분류, 회귀, 추천 시스템, 시각/음성/인지, NLP\n",
    "#### - 비지도학습 : 클러스터링, 차원 축소, 강화학습"
   ]
  },
  {
   "cell_type": "markdown",
   "id": "given-confirmation",
   "metadata": {},
   "source": [
    "#### 1.1.2 데이터 전쟁\n",
    "#### - 데이터와 머신러닝 알고리즘 모두 중요 \n",
    "#### - 머신러닝의 가장 큰 단점 : 데이터에 매우 의존적 / Garbage In, Garbage Out\n",
    "#### - 데이터를 이해하고 효율적으로 가공, 처리, 추출해 최적의 뎅터를 기반으로 알고리즘을 구동할 수 있도록 준비하는 능력"
   ]
  },
  {
   "cell_type": "markdown",
   "id": "strange-desperate",
   "metadata": {},
   "source": [
    "### 1.2 파이썬 머신러닝 생태계를 구성하는 주요 패키지\n",
    "#### - 머신러닝 : sklearn\n",
    "#### - 행렬/선형대수.통계 : numpy, scipy\n",
    "#### - 데이터 핸들링 : pandas\n",
    "#### - 시각화 : matplotlib, seaborn"
   ]
  },
  {
   "cell_type": "markdown",
   "id": "changed-alpha",
   "metadata": {},
   "source": [
    "### 1.3 넘파이 / 1.4 판다스\n",
    "#### - Data_Analysis Repo 참고"
   ]
  }
 ],
 "metadata": {
  "kernelspec": {
   "display_name": "Python 3",
   "language": "python",
   "name": "python3"
  },
  "language_info": {
   "codemirror_mode": {
    "name": "ipython",
    "version": 3
   },
   "file_extension": ".py",
   "mimetype": "text/x-python",
   "name": "python",
   "nbconvert_exporter": "python",
   "pygments_lexer": "ipython3",
   "version": "3.7.3"
  }
 },
 "nbformat": 4,
 "nbformat_minor": 5
}

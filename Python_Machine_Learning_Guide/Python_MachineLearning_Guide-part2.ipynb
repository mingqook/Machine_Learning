{
 "cells": [
  {
   "cell_type": "markdown",
   "id": "prospective-apartment",
   "metadata": {},
   "source": [
    "# 파이썬 머신러닝 완벽가이드 - part2"
   ]
  },
  {
   "cell_type": "markdown",
   "id": "protecting-luther",
   "metadata": {},
   "source": [
    "#### sklearn을 중심으로 python에서 ML을 다루는 과정에 대해 정리하였습니다.\n",
    "#### Python 3.7 버전에서 작성되었으며, 파이썬 머신러닝 완벽 가이드(권철민 지음)을 참고하여 작성하였습니다."
   ]
  },
  {
   "cell_type": "markdown",
   "id": "devoted-efficiency",
   "metadata": {},
   "source": [
    "## 2. 사이킷런으로 시작하는 머신러닝\n",
    "### 2.1 사이킷런 소개와 특징\n",
    "#### - 사이킷런은 파이썬 기반의 머신러닝을 위한 가장 쉽고 효율적인 개발 라이브러리를 제공한다. \n",
    "#### - 파이썬스러운 API를 제공\n",
    "#### - 다양한 머신러닝 알고리즘과 개발을 위한 편리한 프레임워크와 API 제공\n",
    "#### - 다양한 환경에서 사용되는 성숙한 라이브러리"
   ]
  },
  {
   "cell_type": "code",
   "execution_count": 1,
   "id": "related-germany",
   "metadata": {},
   "outputs": [
    {
     "name": "stdout",
     "output_type": "stream",
     "text": [
      "0.24.2\n",
      "-----------------------------------\n"
     ]
    }
   ],
   "source": [
    "import sklearn\n",
    "print(sklearn.__version__)\n",
    "print(\"-----------------------------------\")"
   ]
  },
  {
   "cell_type": "markdown",
   "id": "dominant-japan",
   "metadata": {},
   "source": [
    "### 2.2 첫 번째 머신러닝 만들어보기 - 붓꽃 품종 예측하기 "
   ]
  },
  {
   "cell_type": "code",
   "execution_count": 4,
   "id": "complimentary-treaty",
   "metadata": {},
   "outputs": [
    {
     "name": "stdout",
     "output_type": "stream",
     "text": [
      "iris target값 :  [0 0 0 0 0 0 0 0 0 0 0 0 0 0 0 0 0 0 0 0 0 0 0 0 0 0 0 0 0 0 0 0 0 0 0 0 0\n",
      " 0 0 0 0 0 0 0 0 0 0 0 0 0 1 1 1 1 1 1 1 1 1 1 1 1 1 1 1 1 1 1 1 1 1 1 1 1\n",
      " 1 1 1 1 1 1 1 1 1 1 1 1 1 1 1 1 1 1 1 1 1 1 1 1 1 1 2 2 2 2 2 2 2 2 2 2 2\n",
      " 2 2 2 2 2 2 2 2 2 2 2 2 2 2 2 2 2 2 2 2 2 2 2 2 2 2 2 2 2 2 2 2 2 2 2 2 2\n",
      " 2 2]\n",
      "-----------------------------------\n",
      "iris target명 :  ['setosa' 'versicolor' 'virginica']\n",
      "-----------------------------------\n",
      "   sepal length (cm)  sepal width (cm)  petal length (cm)  petal width (cm)  \\\n",
      "0                5.1               3.5                1.4               0.2   \n",
      "1                4.9               3.0                1.4               0.2   \n",
      "2                4.7               3.2                1.3               0.2   \n",
      "\n",
      "   target  \n",
      "0       0  \n",
      "1       0  \n",
      "2       0  \n",
      "-----------------------------------\n"
     ]
    }
   ],
   "source": [
    "from sklearn.datasets import load_iris\n",
    "from sklearn.tree import DecisionTreeClassifier\n",
    "from sklearn.model_selection import train_test_split\n",
    "import pandas as pd\n",
    "\n",
    "iris = load_iris()\n",
    "iris_data = iris.data # iris 데이터 세트에서 피처만으로 된 데이터 numpy\n",
    "iris_label = iris.target # iris 데이터 세트에서 레이블로 된 데이터 numpy\n",
    "\n",
    "print('iris target값 : ', iris_label)\n",
    "print(\"-----------------------------------\")\n",
    "\n",
    "print('iris target명 : ', iris.target_names)\n",
    "print(\"-----------------------------------\")\n",
    "\n",
    "iris_df = pd.DataFrame(data = iris_data, columns = iris.feature_names)\n",
    "iris_df['target'] = iris.target\n",
    "print(iris_df.head(3))\n",
    "print(\"-----------------------------------\")"
   ]
  },
  {
   "cell_type": "code",
   "execution_count": 5,
   "id": "speaking-cancer",
   "metadata": {},
   "outputs": [
    {
     "data": {
      "text/plain": [
       "DecisionTreeClassifier(random_state=11)"
      ]
     },
     "execution_count": 5,
     "metadata": {},
     "output_type": "execute_result"
    }
   ],
   "source": [
    "# 학습용 데이터 / 테스트 데이터 분리\n",
    "X_train, X_test, y_train, y_test = train_test_split(iris_data, iris_label, test_size=0.2, random_state=11)\n",
    "\n",
    "# DecisionTreeClassifier 객체 생성 / 학습\n",
    "dt_clf = DecisionTreeClassifier(random_state = 11)\n",
    "dt_clf.fit(X_train, y_train)"
   ]
  },
  {
   "cell_type": "code",
   "execution_count": 6,
   "id": "legitimate-romania",
   "metadata": {},
   "outputs": [],
   "source": [
    "# predict\n",
    "pred = dt_clf.predict(X_test)"
   ]
  },
  {
   "cell_type": "code",
   "execution_count": 8,
   "id": "liked-cooperative",
   "metadata": {},
   "outputs": [
    {
     "name": "stdout",
     "output_type": "stream",
     "text": [
      "예측 정확도 : 0.9333\n",
      "-----------------------------------\n"
     ]
    }
   ],
   "source": [
    "# 예측 성능 평가 / 정확도\n",
    "from sklearn.metrics import accuracy_score\n",
    "print('예측 정확도 : {0:.4f}'.format(accuracy_score(y_test, pred)))  # 실제값 / 예측값 순서\n",
    "print(\"-----------------------------------\")"
   ]
  },
  {
   "cell_type": "markdown",
   "id": "accepting-prevention",
   "metadata": {},
   "source": [
    "#### - 데이터 세트 분리 -> 모델 학습 -> 예측 수행 -> 평가"
   ]
  },
  {
   "cell_type": "markdown",
   "id": "sought-jumping",
   "metadata": {},
   "source": [
    "### 2.3 사이킷런의 기반 프레임워크 익히기 \n",
    "#### 2.3.1 Estimator 이해 및 fit(), predict() 메서드\n",
    "#### - fit() : 학습 / predict() : 예측\n",
    "#### - Esstimator class : Classifier(분류) + Regressor(회귀)\n",
    "#### - cross_val_score() : evaluation 함수 / GridSearchCV : 하이퍼 파라미터 튜닝 지원\n",
    "#### - 비지도학습과 피처 추출에서 fit()은 지도학습의 fit()과 같이 학습을 의미하는 것이 아닌 입력 데이터의 형태에 맞춰 데이터를 변환하기 위한 사전 구조를 맞추는 작업\n",
    "#### - transform() : 입력 데이터의 차원 변환, 클러스터링, 피처 추출 등 실제 비지도 작업 수행\n",
    "#### - fit_transform() : fit() + transform()"
   ]
  },
  {
   "cell_type": "markdown",
   "id": "native-davis",
   "metadata": {},
   "source": [
    "#### 2.3.2 사이킷런의 주요 모듈 \n",
    "#### - sklearn.datasets : 예제로 제공하는 데이터 세트\n",
    "#### - sklearn.preprocessing : 데이터 전처리 기능(인코딩, 정규화, 스케일링 등)\n",
    "#### - sklearn.feature_selection : 피처를 우선순위대로 셀렉션 \n",
    "#### - sklearn.feature_extraction : 텍스트 데이터나 이미지 데이터의 벡터화된 피처를 추출 / 텍스트의 Count Vectorize, Tf-Idf\n",
    "#### - skearn.decomposition : 차원 축소와 관련한 알고리즘 / PCA, NMF, Truncated SVD\n",
    "#### - sklearn.model_selection : 교차 검증, 그리드 서치로 최적 파라미터 추출 \n",
    "#### - sklearn.metrics : 성능측정방법 제공 / Accuracy, Precision, Recall, ROC-AUC, RMSE\n",
    "#### - sklearn.ensemble : 앙상블 알고리즘 제공 / 랜덤 포레스트, 에이다부스트, 그래디언트 부스딩\n",
    "#### - sklearn.linear_model : 선형회귀, 릿지, 라쏘, 로지스틱 회귀, SGD\n",
    "#### - sklearn.naive_bayes : 나이브 베이즈 알고리즘 / 가우시안 NB, 다항 분포 NB\n",
    "#### - sklearn.neighbors : 최근접 이웃 알고리즘/ k-NN\n",
    "#### - sklearn.sv : 서포트 벡터 머신 \n",
    "#### - sklearn.tree : 의사결정트리 \n",
    "#### - sklearn.clustering : 비지도 클러스터링 / k-mean, dbscan\n",
    "#### - sklearn.pipeline : 피처 처리 등의 변환과 ML 알고리즘 학습, 예측 등을 함께 묶어서 실행"
   ]
  },
  {
   "cell_type": "markdown",
   "id": "considered-sheep",
   "metadata": {},
   "source": [
    "#### - 머신러닝 모델 구축 주요 프로세스 : 피처처리(피처의 가공, 변경, 추출) -> 알고리즘 학습/예측 -> 모델 평가 "
   ]
  },
  {
   "cell_type": "code",
   "execution_count": 10,
   "id": "mineral-smoke",
   "metadata": {},
   "outputs": [
    {
     "name": "stdout",
     "output_type": "stream",
     "text": [
      "<class 'sklearn.utils.Bunch'>\n",
      "-----------------------------------\n",
      "붓꽃 데이터 세트의 키들 :  dict_keys(['data', 'target', 'frame', 'target_names', 'DESCR', 'feature_names', 'filename'])\n",
      "-----------------------------------\n"
     ]
    }
   ],
   "source": [
    "from sklearn.datasets import load_iris\n",
    "iris_data = load_iris()\n",
    "print(type(iris_data)) # Bunch - dict와 유사\n",
    "print(\"-----------------------------------\") \n",
    "\n",
    "keys = iris_data.keys()\n",
    "print('붓꽃 데이터 세트의 키들 : ', keys)\n",
    "print(\"-----------------------------------\")"
   ]
  },
  {
   "cell_type": "code",
   "execution_count": 14,
   "id": "false-prospect",
   "metadata": {},
   "outputs": [
    {
     "name": "stdout",
     "output_type": "stream",
     "text": [
      "\n",
      " feature_names의 type :  <class 'list'>\n",
      "-----------------------------------\n",
      "['sepal length (cm)', 'sepal width (cm)', 'petal length (cm)', 'petal width (cm)']\n",
      "-----------------------------------\n",
      "\n",
      " target_names의 type :  <class 'numpy.ndarray'>\n",
      "-----------------------------------\n",
      " target_names의 shape :  3\n",
      "-----------------------------------\n",
      "['setosa' 'versicolor' 'virginica']\n",
      "\n",
      " data의 type :  <class 'numpy.ndarray'>\n",
      "-----------------------------------\n",
      "\n",
      " data의 shape :  (150, 4)\n",
      "-----------------------------------\n",
      "[[5.1 3.5 1.4 0.2]\n",
      " [4.9 3.  1.4 0.2]\n",
      " [4.7 3.2 1.3 0.2]\n",
      " [4.6 3.1 1.5 0.2]\n",
      " [5.  3.6 1.4 0.2]\n",
      " [5.4 3.9 1.7 0.4]\n",
      " [4.6 3.4 1.4 0.3]\n",
      " [5.  3.4 1.5 0.2]\n",
      " [4.4 2.9 1.4 0.2]\n",
      " [4.9 3.1 1.5 0.1]\n",
      " [5.4 3.7 1.5 0.2]\n",
      " [4.8 3.4 1.6 0.2]\n",
      " [4.8 3.  1.4 0.1]\n",
      " [4.3 3.  1.1 0.1]\n",
      " [5.8 4.  1.2 0.2]\n",
      " [5.7 4.4 1.5 0.4]\n",
      " [5.4 3.9 1.3 0.4]\n",
      " [5.1 3.5 1.4 0.3]\n",
      " [5.7 3.8 1.7 0.3]\n",
      " [5.1 3.8 1.5 0.3]\n",
      " [5.4 3.4 1.7 0.2]\n",
      " [5.1 3.7 1.5 0.4]\n",
      " [4.6 3.6 1.  0.2]\n",
      " [5.1 3.3 1.7 0.5]\n",
      " [4.8 3.4 1.9 0.2]\n",
      " [5.  3.  1.6 0.2]\n",
      " [5.  3.4 1.6 0.4]\n",
      " [5.2 3.5 1.5 0.2]\n",
      " [5.2 3.4 1.4 0.2]\n",
      " [4.7 3.2 1.6 0.2]\n",
      " [4.8 3.1 1.6 0.2]\n",
      " [5.4 3.4 1.5 0.4]\n",
      " [5.2 4.1 1.5 0.1]\n",
      " [5.5 4.2 1.4 0.2]\n",
      " [4.9 3.1 1.5 0.2]\n",
      " [5.  3.2 1.2 0.2]\n",
      " [5.5 3.5 1.3 0.2]\n",
      " [4.9 3.6 1.4 0.1]\n",
      " [4.4 3.  1.3 0.2]\n",
      " [5.1 3.4 1.5 0.2]\n",
      " [5.  3.5 1.3 0.3]\n",
      " [4.5 2.3 1.3 0.3]\n",
      " [4.4 3.2 1.3 0.2]\n",
      " [5.  3.5 1.6 0.6]\n",
      " [5.1 3.8 1.9 0.4]\n",
      " [4.8 3.  1.4 0.3]\n",
      " [5.1 3.8 1.6 0.2]\n",
      " [4.6 3.2 1.4 0.2]\n",
      " [5.3 3.7 1.5 0.2]\n",
      " [5.  3.3 1.4 0.2]\n",
      " [7.  3.2 4.7 1.4]\n",
      " [6.4 3.2 4.5 1.5]\n",
      " [6.9 3.1 4.9 1.5]\n",
      " [5.5 2.3 4.  1.3]\n",
      " [6.5 2.8 4.6 1.5]\n",
      " [5.7 2.8 4.5 1.3]\n",
      " [6.3 3.3 4.7 1.6]\n",
      " [4.9 2.4 3.3 1. ]\n",
      " [6.6 2.9 4.6 1.3]\n",
      " [5.2 2.7 3.9 1.4]\n",
      " [5.  2.  3.5 1. ]\n",
      " [5.9 3.  4.2 1.5]\n",
      " [6.  2.2 4.  1. ]\n",
      " [6.1 2.9 4.7 1.4]\n",
      " [5.6 2.9 3.6 1.3]\n",
      " [6.7 3.1 4.4 1.4]\n",
      " [5.6 3.  4.5 1.5]\n",
      " [5.8 2.7 4.1 1. ]\n",
      " [6.2 2.2 4.5 1.5]\n",
      " [5.6 2.5 3.9 1.1]\n",
      " [5.9 3.2 4.8 1.8]\n",
      " [6.1 2.8 4.  1.3]\n",
      " [6.3 2.5 4.9 1.5]\n",
      " [6.1 2.8 4.7 1.2]\n",
      " [6.4 2.9 4.3 1.3]\n",
      " [6.6 3.  4.4 1.4]\n",
      " [6.8 2.8 4.8 1.4]\n",
      " [6.7 3.  5.  1.7]\n",
      " [6.  2.9 4.5 1.5]\n",
      " [5.7 2.6 3.5 1. ]\n",
      " [5.5 2.4 3.8 1.1]\n",
      " [5.5 2.4 3.7 1. ]\n",
      " [5.8 2.7 3.9 1.2]\n",
      " [6.  2.7 5.1 1.6]\n",
      " [5.4 3.  4.5 1.5]\n",
      " [6.  3.4 4.5 1.6]\n",
      " [6.7 3.1 4.7 1.5]\n",
      " [6.3 2.3 4.4 1.3]\n",
      " [5.6 3.  4.1 1.3]\n",
      " [5.5 2.5 4.  1.3]\n",
      " [5.5 2.6 4.4 1.2]\n",
      " [6.1 3.  4.6 1.4]\n",
      " [5.8 2.6 4.  1.2]\n",
      " [5.  2.3 3.3 1. ]\n",
      " [5.6 2.7 4.2 1.3]\n",
      " [5.7 3.  4.2 1.2]\n",
      " [5.7 2.9 4.2 1.3]\n",
      " [6.2 2.9 4.3 1.3]\n",
      " [5.1 2.5 3.  1.1]\n",
      " [5.7 2.8 4.1 1.3]\n",
      " [6.3 3.3 6.  2.5]\n",
      " [5.8 2.7 5.1 1.9]\n",
      " [7.1 3.  5.9 2.1]\n",
      " [6.3 2.9 5.6 1.8]\n",
      " [6.5 3.  5.8 2.2]\n",
      " [7.6 3.  6.6 2.1]\n",
      " [4.9 2.5 4.5 1.7]\n",
      " [7.3 2.9 6.3 1.8]\n",
      " [6.7 2.5 5.8 1.8]\n",
      " [7.2 3.6 6.1 2.5]\n",
      " [6.5 3.2 5.1 2. ]\n",
      " [6.4 2.7 5.3 1.9]\n",
      " [6.8 3.  5.5 2.1]\n",
      " [5.7 2.5 5.  2. ]\n",
      " [5.8 2.8 5.1 2.4]\n",
      " [6.4 3.2 5.3 2.3]\n",
      " [6.5 3.  5.5 1.8]\n",
      " [7.7 3.8 6.7 2.2]\n",
      " [7.7 2.6 6.9 2.3]\n",
      " [6.  2.2 5.  1.5]\n",
      " [6.9 3.2 5.7 2.3]\n",
      " [5.6 2.8 4.9 2. ]\n",
      " [7.7 2.8 6.7 2. ]\n",
      " [6.3 2.7 4.9 1.8]\n",
      " [6.7 3.3 5.7 2.1]\n",
      " [7.2 3.2 6.  1.8]\n",
      " [6.2 2.8 4.8 1.8]\n",
      " [6.1 3.  4.9 1.8]\n",
      " [6.4 2.8 5.6 2.1]\n",
      " [7.2 3.  5.8 1.6]\n",
      " [7.4 2.8 6.1 1.9]\n",
      " [7.9 3.8 6.4 2. ]\n",
      " [6.4 2.8 5.6 2.2]\n",
      " [6.3 2.8 5.1 1.5]\n",
      " [6.1 2.6 5.6 1.4]\n",
      " [7.7 3.  6.1 2.3]\n",
      " [6.3 3.4 5.6 2.4]\n",
      " [6.4 3.1 5.5 1.8]\n",
      " [6.  3.  4.8 1.8]\n",
      " [6.9 3.1 5.4 2.1]\n",
      " [6.7 3.1 5.6 2.4]\n",
      " [6.9 3.1 5.1 2.3]\n",
      " [5.8 2.7 5.1 1.9]\n",
      " [6.8 3.2 5.9 2.3]\n",
      " [6.7 3.3 5.7 2.5]\n",
      " [6.7 3.  5.2 2.3]\n",
      " [6.3 2.5 5.  1.9]\n",
      " [6.5 3.  5.2 2. ]\n",
      " [6.2 3.4 5.4 2.3]\n",
      " [5.9 3.  5.1 1.8]]\n",
      "-----------------------------------\n",
      "\n",
      " target 의 type :  <class 'numpy.ndarray'>\n",
      "-----------------------------------\n",
      "\n",
      " target의 shape :  (150,)\n",
      "-----------------------------------\n",
      "[0 0 0 0 0 0 0 0 0 0 0 0 0 0 0 0 0 0 0 0 0 0 0 0 0 0 0 0 0 0 0 0 0 0 0 0 0\n",
      " 0 0 0 0 0 0 0 0 0 0 0 0 0 1 1 1 1 1 1 1 1 1 1 1 1 1 1 1 1 1 1 1 1 1 1 1 1\n",
      " 1 1 1 1 1 1 1 1 1 1 1 1 1 1 1 1 1 1 1 1 1 1 1 1 1 1 2 2 2 2 2 2 2 2 2 2 2\n",
      " 2 2 2 2 2 2 2 2 2 2 2 2 2 2 2 2 2 2 2 2 2 2 2 2 2 2 2 2 2 2 2 2 2 2 2 2 2\n",
      " 2 2]\n",
      "-----------------------------------\n"
     ]
    }
   ],
   "source": [
    "print('\\n feature_names의 type : ', type(iris_data.feature_names))\n",
    "print(\"-----------------------------------\")\n",
    "print(iris_data.feature_names)\n",
    "print(\"-----------------------------------\")\n",
    "\n",
    "print('\\n target_names의 type : ', type(iris_data.target_names))\n",
    "print(\"-----------------------------------\")\n",
    "print(' target_names의 shape : ', len(iris_data.target_names))\n",
    "print(\"-----------------------------------\")\n",
    "print(iris_data.target_names)\n",
    "\n",
    "print('\\n data의 type : ', type(iris_data.data))\n",
    "print(\"-----------------------------------\")\n",
    "print('\\n data의 shape : ', iris_data.data.shape)\n",
    "print(\"-----------------------------------\")\n",
    "print(iris_data['data'])\n",
    "print(\"-----------------------------------\")\n",
    "\n",
    "\n",
    "\n",
    "print('\\n target 의 type : ', type(iris_data.target))\n",
    "print(\"-----------------------------------\")\n",
    "print('\\n target의 shape : ', iris_data.target.shape)\n",
    "print(\"-----------------------------------\")\n",
    "print(iris_data.target)\n",
    "print(\"-----------------------------------\")\n",
    "\n"
   ]
  },
  {
   "cell_type": "markdown",
   "id": "loving-advisory",
   "metadata": {},
   "source": [
    "### 2.4 Model Selection 모듈 소개"
   ]
  },
  {
   "cell_type": "markdown",
   "id": "brief-event",
   "metadata": {},
   "source": [
    "#### 2.4.1 학습/테스트 데이터 세트 분리 - train_test_split()"
   ]
  },
  {
   "cell_type": "code",
   "execution_count": 18,
   "id": "distributed-joseph",
   "metadata": {},
   "outputs": [
    {
     "name": "stdout",
     "output_type": "stream",
     "text": [
      "1.0\n"
     ]
    }
   ],
   "source": [
    "# 데이터 분리를 하지 않고 학습 데이터만을 가지고 학습\n",
    "from sklearn.datasets import load_iris\n",
    "from sklearn.tree import DecisionTreeClassifier\n",
    "from sklearn.metrics import accuracy_score\n",
    "\n",
    "iris = load_iris()\n",
    "dt_clf = DecisionTreeClassifier()\n",
    "train_data = iris.data\n",
    "label_data = iris.target\n",
    "dt_clf.fit(train_data, label_data)\n",
    "\n",
    "# 학습 데이터 세트로 예측 수행\n",
    "pred = dt_clf.predict(train_data)\n",
    "print(accuracy_score(label_data, pred))"
   ]
  },
  {
   "cell_type": "markdown",
   "id": "european-container",
   "metadata": {},
   "source": [
    "#### - train_test_split()의 반환값은 튜플 형태 : 순차적으로 학습용 데이터의 피처 데이터 세트, 테스트용 데이터의 피처 데이터 세트, 학습용 데이터의 레이블 데이터 세트, 테스트용 데이터의 레이블 데이터 세트"
   ]
  },
  {
   "cell_type": "code",
   "execution_count": 19,
   "id": "roman-compromise",
   "metadata": {},
   "outputs": [
    {
     "name": "stdout",
     "output_type": "stream",
     "text": [
      "0.9555555555555556\n",
      "-----------------------------------\n"
     ]
    }
   ],
   "source": [
    "from sklearn.tree import DecisionTreeClassifier\n",
    "from sklearn.model_selection import train_test_split\n",
    "from sklearn.datasets import load_iris\n",
    "from sklearn.metrics import accuracy_score\n",
    "\n",
    "dt_clf = DecisionTreeClassifier()\n",
    "iris_data = load_iris()\n",
    "\n",
    "X_train, X_test, y_train, y_test = train_test_split(iris_data.data, iris_data.target, test_size = 0.3, random_state=121)\n",
    "\n",
    "dt_clf.fit(X_train, y_train)\n",
    "pred = dt_clf.predict(X_test)\n",
    "print(accuracy_score(y_test, pred))\n",
    "print(\"-----------------------------------\")"
   ]
  },
  {
   "cell_type": "markdown",
   "id": "enabling-billion",
   "metadata": {},
   "source": [
    "#### 2.4.2 교차 검증\n",
    "#### - 교차 검증은 데이터 편중을 막기 위해서 별도의 여러 세트로 구성된 학습 데이터 세트와 검증 데이터 세트에서 학습과 평가를 수행\n",
    "#### - 각 세트에서 수행한 평과 결과에 따라 하이퍼 파라미터 튜닝 등의 모델 최적화를 더욱 손쉽게 할 수 있다. \n",
    "#### - 성능평가 : 교차 검증 기반으로 1차 평가를 한 뒤 최종적으로 태스트 데이터 세트에 적용해 평가 "
   ]
  },
  {
   "cell_type": "code",
   "execution_count": 2,
   "id": "figured-lindsay",
   "metadata": {},
   "outputs": [
    {
     "name": "stdout",
     "output_type": "stream",
     "text": [
      "붗꽃 데이터 세트 크기 :  150\n",
      "-------------------------------------------\n"
     ]
    },
    {
     "name": "stderr",
     "output_type": "stream",
     "text": [
      "/Library/Frameworks/Python.framework/Versions/3.7/lib/python3.7/importlib/_bootstrap.py:219: RuntimeWarning: numpy.ufunc size changed, may indicate binary incompatibility. Expected 192 from C header, got 216 from PyObject\n",
      "  return f(*args, **kwds)\n"
     ]
    }
   ],
   "source": [
    "# k-fold \n",
    "from sklearn.datasets import load_iris\n",
    "from sklearn.tree import DecisionTreeClassifier\n",
    "from sklearn.metrics import accuracy_score\n",
    "from sklearn.model_selection import KFold\n",
    "import numpy as np\n",
    "\n",
    "iris = load_iris()\n",
    "features = iris.data\n",
    "label = iris.target\n",
    "dt_clf = DecisionTreeClassifier(random_state = 156)\n",
    "\n",
    "kfold = KFold(n_splits = 5)\n",
    "cv_accuracy = []\n",
    "print('붗꽃 데이터 세트 크기 : ', features.shape[0])\n",
    "print(\"-------------------------------------------\")"
   ]
  },
  {
   "cell_type": "code",
   "execution_count": 4,
   "id": "thirty-musician",
   "metadata": {},
   "outputs": [
    {
     "name": "stdout",
     "output_type": "stream",
     "text": [
      "#교차 검증 정확도 : 1.0, 학습 데이터 크기: 120, 검증데이터 크기 : 30\n",
      "-------------------------------------------\n",
      "#1 검증 세트 인덱스 : [ 0  1  2  3  4  5  6  7  8  9 10 11 12 13 14 15 16 17 18 19 20 21 22 23\n",
      " 24 25 26 27 28 29]\n",
      "-------------------------------------------\n",
      "#교차 검증 정확도 : 0.9667, 학습 데이터 크기: 120, 검증데이터 크기 : 30\n",
      "-------------------------------------------\n",
      "#2 검증 세트 인덱스 : [30 31 32 33 34 35 36 37 38 39 40 41 42 43 44 45 46 47 48 49 50 51 52 53\n",
      " 54 55 56 57 58 59]\n",
      "-------------------------------------------\n",
      "#교차 검증 정확도 : 0.8667, 학습 데이터 크기: 120, 검증데이터 크기 : 30\n",
      "-------------------------------------------\n",
      "#3 검증 세트 인덱스 : [60 61 62 63 64 65 66 67 68 69 70 71 72 73 74 75 76 77 78 79 80 81 82 83\n",
      " 84 85 86 87 88 89]\n",
      "-------------------------------------------\n",
      "#교차 검증 정확도 : 0.9333, 학습 데이터 크기: 120, 검증데이터 크기 : 30\n",
      "-------------------------------------------\n",
      "#4 검증 세트 인덱스 : [ 90  91  92  93  94  95  96  97  98  99 100 101 102 103 104 105 106 107\n",
      " 108 109 110 111 112 113 114 115 116 117 118 119]\n",
      "-------------------------------------------\n",
      "#교차 검증 정확도 : 0.7333, 학습 데이터 크기: 120, 검증데이터 크기 : 30\n",
      "-------------------------------------------\n",
      "#5 검증 세트 인덱스 : [120 121 122 123 124 125 126 127 128 129 130 131 132 133 134 135 136 137\n",
      " 138 139 140 141 142 143 144 145 146 147 148 149]\n",
      "-------------------------------------------\n",
      "## 평균 검증 정확도 :  0.9\n",
      "-------------------------------------------\n"
     ]
    }
   ],
   "source": [
    "n_iter =  0\n",
    "\n",
    "for train_index, test_index in kfold.split(features):\n",
    "    X_train, X_test = features[train_index], features[test_index]\n",
    "    y_train, y_test = label[train_index], label[test_index]\n",
    "    dt_clf.fit(X_train, y_train)\n",
    "    pred = dt_clf.predict(X_test)\n",
    "    n_iter += 1\n",
    "    accuracy = np.round(accuracy_score(y_test, pred), 4)\n",
    "    train_size = X_train.shape[0]\n",
    "    test_size = X_test.shape[0]\n",
    "    print(\"#교차 검증 정확도 : {1}, 학습 데이터 크기: {2}, 검증데이터 크기 : {3}\".format(n_iter, accuracy, train_size, test_size))\n",
    "    print(\"-------------------------------------------\")\n",
    "    print(\"#{0} 검증 세트 인덱스 : {1}\".format(n_iter, test_index))\n",
    "    print(\"-------------------------------------------\")\n",
    "    cv_accuracy.append(accuracy)\n",
    "    \n",
    "print(\"## 평균 검증 정확도 : \", np.mean(cv_accuracy))\n",
    "print(\"-------------------------------------------\")"
   ]
  },
  {
   "cell_type": "code",
   "execution_count": 6,
   "id": "chicken-medicare",
   "metadata": {},
   "outputs": [
    {
     "name": "stdout",
     "output_type": "stream",
     "text": [
      "0    50\n",
      "1    50\n",
      "2    50\n",
      "Name: label, dtype: int64\n",
      "-------------------------------------------\n"
     ]
    }
   ],
   "source": [
    "import pandas as pd\n",
    "\n",
    "iris = load_iris()\n",
    "iris_df = pd.DataFrame(data = iris.data, columns = iris.feature_names)\n",
    "iris_df['label'] = iris.target\n",
    "print(iris_df['label'].value_counts())\n",
    "print(\"-------------------------------------------\")"
   ]
  },
  {
   "cell_type": "code",
   "execution_count": 8,
   "id": "electrical-literature",
   "metadata": {},
   "outputs": [
    {
     "name": "stdout",
     "output_type": "stream",
     "text": [
      "## 교차 검증 : 1\n",
      "-------------------------------------------\n",
      "학습 레이블 데이터 분포 : \n",
      " 1    50\n",
      "2    50\n",
      "Name: label, dtype: int64\n",
      "-------------------------------------------\n",
      "검증 레이블 데이터 분포 : \n",
      " 0    50\n",
      "Name: label, dtype: int64\n",
      "-------------------------------------------\n",
      "## 교차 검증 : 2\n",
      "-------------------------------------------\n",
      "학습 레이블 데이터 분포 : \n",
      " 0    50\n",
      "2    50\n",
      "Name: label, dtype: int64\n",
      "-------------------------------------------\n",
      "검증 레이블 데이터 분포 : \n",
      " 1    50\n",
      "Name: label, dtype: int64\n",
      "-------------------------------------------\n",
      "## 교차 검증 : 3\n",
      "-------------------------------------------\n",
      "학습 레이블 데이터 분포 : \n",
      " 0    50\n",
      "1    50\n",
      "Name: label, dtype: int64\n",
      "-------------------------------------------\n",
      "검증 레이블 데이터 분포 : \n",
      " 2    50\n",
      "Name: label, dtype: int64\n",
      "-------------------------------------------\n"
     ]
    }
   ],
   "source": [
    "kfold = KFold(n_splits=3)\n",
    "n_iter = 0\n",
    "for train_index, test_index in kfold.split(iris_df):\n",
    "    n_iter +=1\n",
    "    label_train = iris_df['label'].iloc[train_index]\n",
    "    label_test = iris_df['label'].iloc[test_index]\n",
    "    print(\"## 교차 검증 : {0}\".format(n_iter))\n",
    "    print(\"-------------------------------------------\")\n",
    "    print(\"학습 레이블 데이터 분포 : \\n\", label_train.value_counts())\n",
    "    print(\"-------------------------------------------\")\n",
    "    print(\"검증 레이블 데이터 분포 : \\n\", label_test.value_counts())\n",
    "    print(\"-------------------------------------------\")"
   ]
  },
  {
   "cell_type": "code",
   "execution_count": 11,
   "id": "extreme-costume",
   "metadata": {},
   "outputs": [
    {
     "name": "stdout",
     "output_type": "stream",
     "text": [
      "## 교차 검증 : 1\n",
      "-------------------------------------------\n",
      "학습 레이블 데이터 분포 : \n",
      " 2    34\n",
      "0    33\n",
      "1    33\n",
      "Name: label, dtype: int64\n",
      "-------------------------------------------\n",
      "검증 레이블 데이터 분포 : \n",
      " 0    17\n",
      "1    17\n",
      "2    16\n",
      "Name: label, dtype: int64\n",
      "-------------------------------------------\n",
      "## 교차 검증 : 2\n",
      "-------------------------------------------\n",
      "학습 레이블 데이터 분포 : \n",
      " 1    34\n",
      "0    33\n",
      "2    33\n",
      "Name: label, dtype: int64\n",
      "-------------------------------------------\n",
      "검증 레이블 데이터 분포 : \n",
      " 0    17\n",
      "2    17\n",
      "1    16\n",
      "Name: label, dtype: int64\n",
      "-------------------------------------------\n",
      "## 교차 검증 : 3\n",
      "-------------------------------------------\n",
      "학습 레이블 데이터 분포 : \n",
      " 0    34\n",
      "1    33\n",
      "2    33\n",
      "Name: label, dtype: int64\n",
      "-------------------------------------------\n",
      "검증 레이블 데이터 분포 : \n",
      " 1    17\n",
      "2    17\n",
      "0    16\n",
      "Name: label, dtype: int64\n",
      "-------------------------------------------\n"
     ]
    }
   ],
   "source": [
    "# stratified K 폴드 : 불균형한 분포도를 가진 레이블 데이터 집합을 위한 k fold\n",
    "\n",
    "from sklearn.model_selection import StratifiedKFold\n",
    "\n",
    "skf = StratifiedKFold(n_splits=3)\n",
    "n_iter = 0\n",
    "for train_index, test_index in skf.split(iris_df, iris_df['label']):     # split 시 data뿐만 아니라 label도 추가\n",
    "    n_iter +=1\n",
    "    label_train = iris_df['label'].iloc[train_index]\n",
    "    label_test = iris_df['label'].iloc[test_index]\n",
    "    print(\"## 교차 검증 : {0}\".format(n_iter))\n",
    "    print(\"-------------------------------------------\")\n",
    "    print(\"학습 레이블 데이터 분포 : \\n\", label_train.value_counts())\n",
    "    print(\"-------------------------------------------\")\n",
    "    print(\"검증 레이블 데이터 분포 : \\n\", label_test.value_counts())\n",
    "    print(\"-------------------------------------------\")"
   ]
  },
  {
   "cell_type": "code",
   "execution_count": 14,
   "id": "suitable-scheduling",
   "metadata": {},
   "outputs": [
    {
     "name": "stdout",
     "output_type": "stream",
     "text": [
      "#교차 검증 정확도 : 0.98, 학습 데이터 크기: 100, 검증데이터 크기 : 50\n",
      "-------------------------------------------\n",
      "#1 검증 세트 인덱스 : [  0   1   2   3   4   5   6   7   8   9  10  11  12  13  14  15  16  50\n",
      "  51  52  53  54  55  56  57  58  59  60  61  62  63  64  65  66 100 101\n",
      " 102 103 104 105 106 107 108 109 110 111 112 113 114 115]\n",
      "-------------------------------------------\n",
      "#교차 검증 정확도 : 0.94, 학습 데이터 크기: 100, 검증데이터 크기 : 50\n",
      "-------------------------------------------\n",
      "#2 검증 세트 인덱스 : [ 17  18  19  20  21  22  23  24  25  26  27  28  29  30  31  32  33  67\n",
      "  68  69  70  71  72  73  74  75  76  77  78  79  80  81  82 116 117 118\n",
      " 119 120 121 122 123 124 125 126 127 128 129 130 131 132]\n",
      "-------------------------------------------\n",
      "#교차 검증 정확도 : 0.98, 학습 데이터 크기: 100, 검증데이터 크기 : 50\n",
      "-------------------------------------------\n",
      "#3 검증 세트 인덱스 : [ 34  35  36  37  38  39  40  41  42  43  44  45  46  47  48  49  83  84\n",
      "  85  86  87  88  89  90  91  92  93  94  95  96  97  98  99 133 134 135\n",
      " 136 137 138 139 140 141 142 143 144 145 146 147 148 149]\n",
      "-------------------------------------------\n",
      "## 평균 검증 정확도 :  0.9666666666666667\n",
      "-------------------------------------------\n"
     ]
    }
   ],
   "source": [
    "dt_clf = DecisionTreeClassifier(random_state = 156)\n",
    "\n",
    "skfold = StratifiedKFold(n_splits = 3)\n",
    "cv_accuracy = []\n",
    "\n",
    "n_iter =  0\n",
    "\n",
    "for train_index, test_index in skfold.split(features, label):\n",
    "    X_train, X_test = features[train_index], features[test_index]\n",
    "    y_train, y_test = label[train_index], label[test_index]\n",
    "    dt_clf.fit(X_train, y_train)\n",
    "    pred = dt_clf.predict(X_test)\n",
    "    n_iter += 1\n",
    "    accuracy = np.round(accuracy_score(y_test, pred), 4)\n",
    "    train_size = X_train.shape[0]\n",
    "    test_size = X_test.shape[0]\n",
    "    print(\"#교차 검증 정확도 : {1}, 학습 데이터 크기: {2}, 검증데이터 크기 : {3}\".format(n_iter, accuracy, train_size, test_size))\n",
    "    print(\"-------------------------------------------\")\n",
    "    print(\"#{0} 검증 세트 인덱스 : {1}\".format(n_iter, test_index))\n",
    "    print(\"-------------------------------------------\")\n",
    "    cv_accuracy.append(accuracy)\n",
    "    \n",
    "print(\"## 평균 검증 정확도 : \", np.mean(cv_accuracy))\n",
    "print(\"-------------------------------------------\")"
   ]
  },
  {
   "cell_type": "code",
   "execution_count": 16,
   "id": "remarkable-charge",
   "metadata": {},
   "outputs": [
    {
     "name": "stdout",
     "output_type": "stream",
     "text": [
      "교자 검증별 정확도 :  [0.98 0.94 0.98]\n",
      "-------------------------------------------\n",
      "평균 검증 정확도 :  0.9667\n",
      "-------------------------------------------\n"
     ]
    }
   ],
   "source": [
    "# 교차 검증을 보다 간편하게 - cross_val_score()\n",
    "\n",
    "from sklearn.tree import DecisionTreeClassifier\n",
    "from sklearn.model_selection import cross_val_score, cross_validate\n",
    "from sklearn.datasets import load_iris\n",
    "\n",
    "iris_data = load_iris()\n",
    "dt_clf = DecisionTreeClassifier(random_state = 156)\n",
    "\n",
    "data = iris_data.data\n",
    "label = iris_data.target\n",
    "\n",
    "scores = cross_val_score(dt_clf, data, label, scoring='accuracy', cv = 3)\n",
    "print('교자 검증별 정확도 : ', np.round(scores, 4))\n",
    "print(\"-------------------------------------------\")\n",
    "print('평균 검증 정확도 : ', np.round(np.mean(scores), 4))\n",
    "print(\"-------------------------------------------\")"
   ]
  },
  {
   "cell_type": "markdown",
   "id": "unable-indie",
   "metadata": {},
   "source": [
    "#### 2.4.3 GridSearchCV - 교차 검증과 최적 하이퍼 파리미터 튜닝을 한 번에\n",
    "#### - 하이퍼 파라미터를 순차적으로 입력하면서 최적의 파라미터를 도출\n",
    "#### - 테스트할 하이퍼 파라미터는 딕셔너리 형태 / 하이퍼 파라미터 명칭이 key, 하이퍼 파라미터 값은 리스트 "
   ]
  },
  {
   "cell_type": "code",
   "execution_count": 18,
   "id": "compressed-boston",
   "metadata": {},
   "outputs": [
    {
     "name": "stdout",
     "output_type": "stream",
     "text": [
      "   mean_fit_time  std_fit_time  mean_score_time  std_score_time  ... split2_test_score mean_test_score std_test_score  rank_test_score\n",
      "0       0.000734      0.000322         0.000326    3.970988e-05  ...              0.70        0.700000   1.110223e-16                5\n",
      "1       0.000888      0.000481         0.000382    1.157648e-04  ...              0.70        0.700000   1.110223e-16                5\n",
      "2       0.000562      0.000125         0.000307    8.637870e-05  ...              0.95        0.958333   3.118048e-02                3\n",
      "3       0.000398      0.000003         0.000223    4.495664e-07  ...              0.95        0.958333   3.118048e-02                3\n",
      "4       0.000362      0.000028         0.000201    1.363417e-05  ...              0.95        0.975000   2.041241e-02                1\n",
      "5       0.000362      0.000016         0.000205    4.319407e-06  ...              0.95        0.975000   2.041241e-02                1\n",
      "\n",
      "[6 rows x 13 columns]\n",
      "-------------------------------------------\n"
     ]
    }
   ],
   "source": [
    "from sklearn.datasets import load_iris\n",
    "from sklearn.tree import DecisionTreeClassifier\n",
    "from sklearn.model_selection import GridSearchCV, train_test_split\n",
    "\n",
    "iris_data = load_iris()\n",
    "X_train, X_test, y_train, y_test = train_test_split(iris_data.data, iris_data.target, test_size = 0.2, random_state = 121)\n",
    "dtree = DecisionTreeClassifier()\n",
    "\n",
    "parameters = {'max_depth' : [1,2,3], 'min_samples_split' : [2,3]}\n",
    "\n",
    "grid_dtree = GridSearchCV(dtree, param_grid=parameters, cv = 3, refit = True)\n",
    "grid_dtree.fit(X_train, y_train)\n",
    "score_df = pd.DataFrame(grid_dtree.cv_results_)\n",
    "score_df[['params', 'mean_test_score', 'rank_test_score', 'split0_test_score', 'split1_test_score', 'split2_test_score']]\n",
    "print(score_df)\n",
    "print(\"-------------------------------------------\")"
   ]
  },
  {
   "cell_type": "code",
   "execution_count": 23,
   "id": "active-activation",
   "metadata": {},
   "outputs": [
    {
     "name": "stdout",
     "output_type": "stream",
     "text": [
      "GridSearchCV 최적 파라미터 :  {'max_depth': 3, 'min_samples_split': 2}\n",
      "-------------------------------------------\n",
      "GridSearchCV 최고 정확도 : 0.9750\n",
      "-------------------------------------------\n"
     ]
    }
   ],
   "source": [
    "print('GridSearchCV 최적 파라미터 : ', grid_dtree.best_params_)\n",
    "print(\"-------------------------------------------\")\n",
    "print(\"GridSearchCV 최고 정확도 : {0:.4f}\".format(grid_dtree.best_score_))\n",
    "print(\"-------------------------------------------\")"
   ]
  },
  {
   "cell_type": "code",
   "execution_count": 24,
   "id": "secure-origin",
   "metadata": {},
   "outputs": [
    {
     "name": "stdout",
     "output_type": "stream",
     "text": [
      "테스트 세트의 정확도 : 0.9667\n",
      "-------------------------------------------\n"
     ]
    }
   ],
   "source": [
    "estimator = grid_dtree.best_estimator_\n",
    "pred = estimator.predict(X_test)\n",
    "print('테스트 세트의 정확도 : {0:.4f}'.format(accuracy_score(y_test, pred)))\n",
    "print(\"-------------------------------------------\")"
   ]
  },
  {
   "cell_type": "markdown",
   "id": "false-dallas",
   "metadata": {},
   "source": [
    "### 2.5 데이터 전처리\n",
    "#### 2.5.1 데이터 인코딩 \n",
    "#### - 레이블 인코딩 : 카테고리 피처를 코드형 숫자 값으로 변환"
   ]
  },
  {
   "cell_type": "code",
   "execution_count": 27,
   "id": "unsigned-induction",
   "metadata": {},
   "outputs": [
    {
     "name": "stdout",
     "output_type": "stream",
     "text": [
      "인코딩 변환값 :  [0 1 4 5 3 3 2 2]\n",
      "-------------------------------------------\n",
      "인코딩 클래스 :  ['TV' '냉장고' '믹서' '선풍기' '전자레인지' '컴퓨터']\n",
      "-------------------------------------------\n",
      "인코딩 원본값 :  ['전자레인지' '컴퓨터' '믹서' 'TV' '냉장고' '냉장고' '선풍기' '선풍기']\n",
      "-------------------------------------------\n"
     ]
    }
   ],
   "source": [
    "# LabelEncoder - 레이블 인코딩 수행\n",
    "from sklearn.preprocessing import LabelEncoder\n",
    "\n",
    "items = ['TV', '냉장고', '전자레인지', '컴퓨터', '선풍기', '선풍기', '믹서', '믹서']\n",
    "\n",
    "encoder = LabelEncoder()\n",
    "encoder.fit(items)\n",
    "labels = encoder.transform(items)\n",
    "print('인코딩 변환값 : ', labels)\n",
    "print(\"-------------------------------------------\")\n",
    "\n",
    "print('인코딩 클래스 : ', encoder.classes_)\n",
    "print(\"-------------------------------------------\")\n",
    "\n",
    "print('인코딩 원본값 : ', encoder.inverse_transform([4,5,2,0,1,1,3,3]))\n",
    "print(\"-------------------------------------------\")"
   ]
  },
  {
   "cell_type": "markdown",
   "id": "related-upgrade",
   "metadata": {},
   "source": [
    "#### - 원-핫 인코딩 : 피처 값의 유형에 따라 새로운 피처를 추가해 고유 값에 해당하는 칼럼에만 1을 포시, 나머지는 0을 표시 "
   ]
  },
  {
   "cell_type": "code",
   "execution_count": 28,
   "id": "charitable-reviewer",
   "metadata": {},
   "outputs": [
    {
     "name": "stdout",
     "output_type": "stream",
     "text": [
      "원-핫 인코딩 데이터\n",
      "[[1. 0. 0. 0. 0. 0.]\n",
      " [0. 1. 0. 0. 0. 0.]\n",
      " [0. 0. 0. 0. 1. 0.]\n",
      " [0. 0. 0. 0. 0. 1.]\n",
      " [0. 0. 0. 1. 0. 0.]\n",
      " [0. 0. 0. 1. 0. 0.]\n",
      " [0. 0. 1. 0. 0. 0.]\n",
      " [0. 0. 1. 0. 0. 0.]]\n",
      "-------------------------------------------\n",
      "원-핫 인코딩 데이터 차원\n",
      "(8, 6)\n",
      "-------------------------------------------\n"
     ]
    }
   ],
   "source": [
    "# OneHotEncoder - 원 핫 인코딩 수행 / 변환 전 모든 문자열 값이 숫자형 값으로 변환, 입력 값으로 2차원 데이터가 필요\n",
    "from sklearn.preprocessing import OneHotEncoder\n",
    "import numpy as np\n",
    "\n",
    "items = ['TV', '냉장고', '전자레인지', '컴퓨터', '선풍기', '선풍기', '믹서', '믹서']\n",
    "\n",
    "# 숫자 값으로 변환\n",
    "encoder= LabelEncoder()\n",
    "encoder.fit(items)\n",
    "labels = encoder.transform(items)\n",
    "\n",
    "# 2차원 데이터 변환\n",
    "labels = labels.reshape(-1,1)\n",
    "\n",
    "oh_encoder = OneHotEncoder()\n",
    "oh_encoder.fit(labels)\n",
    "oh_labels = oh_encoder.transform(labels)\n",
    "print('원-핫 인코딩 데이터')\n",
    "print(oh_labels.toarray())\n",
    "print(\"-------------------------------------------\")\n",
    "print('원-핫 인코딩 데이터 차원')\n",
    "print(oh_labels.shape)\n",
    "print(\"-------------------------------------------\")"
   ]
  },
  {
   "cell_type": "code",
   "execution_count": 29,
   "id": "appropriate-affect",
   "metadata": {},
   "outputs": [
    {
     "name": "stdout",
     "output_type": "stream",
     "text": [
      "   item_TV  item_냉장고  item_믹서  item_선풍기  item_전자레인지  item_컴퓨터\n",
      "0        1         0        0         0           0         0\n",
      "1        0         1        0         0           0         0\n",
      "2        0         0        0         0           1         0\n",
      "3        0         0        0         0           0         1\n",
      "4        0         0        0         1           0         0\n",
      "5        0         0        0         1           0         0\n",
      "6        0         0        1         0           0         0\n",
      "7        0         0        1         0           0         0\n",
      "-------------------------------------------\n"
     ]
    }
   ],
   "source": [
    "# pd.get_dummies - 판다스 원핫인코딩\n",
    "df = pd.DataFrame({'item' : ['TV', '냉장고', '전자레인지', '컴퓨터', '선풍기', '선풍기', '믹서', '믹서']})\n",
    "print(pd.get_dummies(df))\n",
    "print(\"-------------------------------------------\")"
   ]
  },
  {
   "cell_type": "markdown",
   "id": "civil-northeast",
   "metadata": {},
   "source": [
    "#### 2.5.2 피처 스케일링과 정규화 \n",
    "#### - 피처 스케일링 : 변수의 값 범위를 일정한 수준으로 맞추는 작업 ex. 표준화 / 정규화\n",
    "#### - 표준화 : 데이터의 피처 각각이 평균이 0, 분산이 1인 가우시안 정규 분포 값으로 변환\n",
    "#### - 정규화 : 서로 다른 피처의 크기를 통일 "
   ]
  },
  {
   "cell_type": "code",
   "execution_count": 38,
   "id": "impossible-litigation",
   "metadata": {},
   "outputs": [
    {
     "name": "stdout",
     "output_type": "stream",
     "text": [
      "feature 들의 평균 값\n",
      "sepal length (cm)    5.843333\n",
      "sepal width (cm)     3.057333\n",
      "petal length (cm)    3.758000\n",
      "petal width (cm)     1.199333\n",
      "dtype: float64\n",
      "-------------------------------------------\n",
      "feature 들의 분산 값\n",
      "sepal length (cm)    0.685694\n",
      "sepal width (cm)     0.189979\n",
      "petal length (cm)    3.116278\n",
      "petal width (cm)     0.581006\n",
      "dtype: float64\n",
      "-------------------------------------------\n",
      "feature들의 평균 값\n",
      "sepal length (cm)   -1.690315e-15\n",
      "sepal width (cm)    -1.842970e-15\n",
      "petal length (cm)   -1.698641e-15\n",
      "petal width (cm)    -1.409243e-15\n",
      "dtype: float64\n",
      "-------------------------------------------\n",
      "feature들의 분산 값\n",
      "sepal length (cm)    1.006711\n",
      "sepal width (cm)     1.006711\n",
      "petal length (cm)    1.006711\n",
      "petal width (cm)     1.006711\n",
      "dtype: float64\n",
      "-------------------------------------------\n"
     ]
    }
   ],
   "source": [
    "# standardscaler - 표준화를 지원\n",
    "\n",
    "from sklearn.datasets import load_iris\n",
    "import pandas as pd\n",
    "\n",
    "iris = load_iris()\n",
    "iris_data = iris.data\n",
    "iris_df = pd.DataFrame(data=iris_data, columns = iris.feature_names)\n",
    "\n",
    "print('feature 들의 평균 값')\n",
    "print(iris_df.mean())\n",
    "print(\"-------------------------------------------\")\n",
    "print('feature 들의 분산 값')\n",
    "print(iris_df.var())\n",
    "print(\"-------------------------------------------\")\n",
    "\n",
    "from sklearn.preprocessing import StandardScaler\n",
    "\n",
    "scaler = StandardScaler()\n",
    "scaler.fit(iris_df)\n",
    "iris_scaled = scaler.transform(iris_df)\n",
    "\n",
    "iris_df_scaled = pd.DataFrame(data = iris_scaled, columns = iris.feature_names)\n",
    "print('feature들의 평균 값')\n",
    "print(iris_df_scaled.mean())\n",
    "print(\"-------------------------------------------\")\n",
    "print('feature들의 분산 값')\n",
    "print(iris_df_scaled.var())\n",
    "print(\"-------------------------------------------\")"
   ]
  },
  {
   "cell_type": "code",
   "execution_count": 40,
   "id": "blank-allen",
   "metadata": {},
   "outputs": [
    {
     "name": "stdout",
     "output_type": "stream",
     "text": [
      "feature들의 최소값\n",
      "sepal length (cm)    0.0\n",
      "sepal width (cm)     0.0\n",
      "petal length (cm)    0.0\n",
      "petal width (cm)     0.0\n",
      "dtype: float64\n",
      "-------------------------------------------\n",
      "feature들의 최댓값\n",
      "sepal length (cm)    1.0\n",
      "sepal width (cm)     1.0\n",
      "petal length (cm)    1.0\n",
      "petal width (cm)     1.0\n",
      "dtype: float64\n",
      "-------------------------------------------\n"
     ]
    }
   ],
   "source": [
    "# minmax - 데이터 값을 0~1로 변환\n",
    "from sklearn.preprocessing import MinMaxScaler\n",
    "scaler = MinMaxScaler()\n",
    "scaler.fit(iris_df)\n",
    "iris_scaled = scaler.transform(iris_df)\n",
    "\n",
    "iris_df_scaled = pd.DataFrame(data=iris_scaled, columns = iris.feature_names)\n",
    "print('feature들의 최소값')\n",
    "print(iris_df_scaled.min())\n",
    "print(\"-------------------------------------------\")\n",
    "print('feature들의 최댓값')\n",
    "print(iris_df_scaled.max())\n",
    "print(\"-------------------------------------------\")"
   ]
  },
  {
   "cell_type": "markdown",
   "id": "standard-harrison",
   "metadata": {},
   "source": [
    "#### 2.5.3 학습 데이터와 테스트 데이터의 스케일링 변환 시 유의점\n",
    "#### - Scaler 객체를 이용해 학습 데이터 세트로 fit(), transform() 적용하면 테스트 데이터 세트로는 다시 fit()을 수행하지 않고 학습 데이터의 결과를 이용해서 transform() 수행해야 함\n",
    "#### - 스케일링 기준 정보를 통일시키기 위해"
   ]
  },
  {
   "cell_type": "code",
   "execution_count": 41,
   "id": "discrete-seven",
   "metadata": {},
   "outputs": [
    {
     "name": "stdout",
     "output_type": "stream",
     "text": [
      "원본 train_array 데이터 :  [ 0  1  2  3  4  5  6  7  8  9 10]\n",
      "-------------------------------------------\n",
      "scale된 train_array 데이터 :  [0.  0.1 0.2 0.3 0.4 0.5 0.6 0.7 0.8 0.9 1. ]\n",
      "-------------------------------------------\n"
     ]
    }
   ],
   "source": [
    "from sklearn.preprocessing import MinMaxScaler\n",
    "import numpy as np\n",
    "\n",
    "train_array = np.arange(0, 11).reshape(-1,1)\n",
    "test_array = np.arange(0, 6).reshape(-1, 1)\n",
    "\n",
    "scaler = MinMaxScaler()\n",
    "scaler.fit(train_array)\n",
    "train_scaled = scaler.transform(train_array)\n",
    "\n",
    "print('원본 train_array 데이터 : ', np.round(train_array.reshape(-1), 2))\n",
    "print(\"-------------------------------------------\")\n",
    "print('scale된 train_array 데이터 : ', np.round(train_scaled.reshape(-1),2))\n",
    "print(\"-------------------------------------------\")"
   ]
  },
  {
   "cell_type": "code",
   "execution_count": 42,
   "id": "prime-silver",
   "metadata": {},
   "outputs": [
    {
     "name": "stdout",
     "output_type": "stream",
     "text": [
      "원본 test_array 데이터 :  [0 1 2 3 4 5]\n",
      "-------------------------------------------\n",
      "scale된 test_array 데이터 :  [0.  0.2 0.4 0.6 0.8 1. ]\n",
      "-------------------------------------------\n"
     ]
    }
   ],
   "source": [
    "scaler.fit(test_array)\n",
    "\n",
    "test_scaled = scaler.transform(test_array)\n",
    "\n",
    "print('원본 test_array 데이터 : ', np.round(test_array.reshape(-1), 2))\n",
    "print(\"-------------------------------------------\")\n",
    "print('scale된 test_array 데이터 : ', np.round(test_scaled.reshape(-1),2))\n",
    "print(\"-------------------------------------------\")"
   ]
  },
  {
   "cell_type": "code",
   "execution_count": 43,
   "id": "representative-double",
   "metadata": {},
   "outputs": [
    {
     "name": "stdout",
     "output_type": "stream",
     "text": [
      "원본 train_array 데이터 :  [ 0  1  2  3  4  5  6  7  8  9 10]\n",
      "-------------------------------------------\n",
      "scale된 train_array 데이터 :  [0.  0.1 0.2 0.3 0.4 0.5 0.6 0.7 0.8 0.9 1. ]\n",
      "-------------------------------------------\n",
      "원본 test_array 데이터 :  [0 1 2 3 4 5]\n",
      "-------------------------------------------\n",
      "scale된 test_array 데이터 :  [0.  0.1 0.2 0.3 0.4 0.5]\n",
      "-------------------------------------------\n"
     ]
    }
   ],
   "source": [
    "scaler = MinMaxScaler()\n",
    "scaler.fit(train_array)\n",
    "train_scaled = scaler.transform(train_array)\n",
    "\n",
    "print('원본 train_array 데이터 : ', np.round(train_array.reshape(-1), 2))\n",
    "print(\"-------------------------------------------\")\n",
    "print('scale된 train_array 데이터 : ', np.round(train_scaled.reshape(-1),2))\n",
    "print(\"-------------------------------------------\")\n",
    "\n",
    "test_scaled = scaler.transform(test_array)\n",
    "\n",
    "print('원본 test_array 데이터 : ', np.round(test_array.reshape(-1), 2))\n",
    "print(\"-------------------------------------------\")\n",
    "print('scale된 test_array 데이터 : ', np.round(test_scaled.reshape(-1),2))\n",
    "print(\"-------------------------------------------\")"
   ]
  },
  {
   "cell_type": "markdown",
   "id": "moral-burton",
   "metadata": {},
   "source": [
    "#### - 가능하다면 전체 데이터의 스케일링을 변환 후 학습과 테스트 데이터를 분리 \n",
    "#### - 위의 방법이 안된다면 데이터 변환시에는 fit()이나 fit_transform()을 적용하지 않고 학습데이터로 이미 fit()된 scaler 객체를 이용해 transform() 수행"
   ]
  },
  {
   "cell_type": "markdown",
   "id": "communist-canada",
   "metadata": {},
   "source": [
    "### 2.6 사이킷런으로 수행하는 타이타닉 생존자 예측"
   ]
  },
  {
   "cell_type": "code",
   "execution_count": 2,
   "id": "crazy-pillow",
   "metadata": {},
   "outputs": [
    {
     "name": "stdout",
     "output_type": "stream",
     "text": [
      "   PassengerId  Survived  Pclass  \\\n",
      "0            1         0       3   \n",
      "1            2         1       1   \n",
      "2            3         1       3   \n",
      "\n",
      "                                                Name     Sex   Age  SibSp  \\\n",
      "0                            Braund, Mr. Owen Harris    male  22.0      1   \n",
      "1  Cumings, Mrs. John Bradley (Florence Briggs Th...  female  38.0      1   \n",
      "2                             Heikkinen, Miss. Laina  female  26.0      0   \n",
      "\n",
      "   Parch            Ticket     Fare Cabin Embarked  \n",
      "0      0         A/5 21171   7.2500   NaN        S  \n",
      "1      0          PC 17599  71.2833   C85        C  \n",
      "2      0  STON/O2. 3101282   7.9250   NaN        S  \n",
      "----------------------------------------------------\n"
     ]
    }
   ],
   "source": [
    "import numpy as np\n",
    "import pandas as pd\n",
    "import matplotlib.pyplot as plt\n",
    "import seaborn as sns\n",
    "%matplotlib inline\n",
    "\n",
    "titanic_df = pd.read_csv(\"./titanic_train.csv\")\n",
    "print(titanic_df.head(3))\n",
    "print(\"----------------------------------------------------\")"
   ]
  },
  {
   "cell_type": "code",
   "execution_count": 3,
   "id": "false-eating",
   "metadata": {},
   "outputs": [
    {
     "name": "stdout",
     "output_type": "stream",
     "text": [
      "###학습 데이터 정보###\n",
      "----------------------------------------------------\n",
      "<class 'pandas.core.frame.DataFrame'>\n",
      "RangeIndex: 891 entries, 0 to 890\n",
      "Data columns (total 12 columns):\n",
      " #   Column       Non-Null Count  Dtype  \n",
      "---  ------       --------------  -----  \n",
      " 0   PassengerId  891 non-null    int64  \n",
      " 1   Survived     891 non-null    int64  \n",
      " 2   Pclass       891 non-null    int64  \n",
      " 3   Name         891 non-null    object \n",
      " 4   Sex          891 non-null    object \n",
      " 5   Age          714 non-null    float64\n",
      " 6   SibSp        891 non-null    int64  \n",
      " 7   Parch        891 non-null    int64  \n",
      " 8   Ticket       891 non-null    object \n",
      " 9   Fare         891 non-null    float64\n",
      " 10  Cabin        204 non-null    object \n",
      " 11  Embarked     889 non-null    object \n",
      "dtypes: float64(2), int64(5), object(5)\n",
      "memory usage: 83.7+ KB\n",
      "None\n"
     ]
    }
   ],
   "source": [
    "print('###학습 데이터 정보###')\n",
    "print(\"----------------------------------------------------\")\n",
    "print(titanic_df.info())"
   ]
  },
  {
   "cell_type": "code",
   "execution_count": 4,
   "id": "experimental-scout",
   "metadata": {},
   "outputs": [
    {
     "name": "stdout",
     "output_type": "stream",
     "text": [
      "데이터 세트 null 값 개수 0\n",
      "----------------------------------------------------\n"
     ]
    }
   ],
   "source": [
    "titanic_df['Age'].fillna(titanic_df['Age'].mean(), inplace=True)\n",
    "titanic_df['Cabin'].fillna('N', inplace=True)\n",
    "titanic_df['Embarked'].fillna('N', inplace=True)\n",
    "print('데이터 세트 null 값 개수', titanic_df.isnull().sum().sum())\n",
    "print(\"----------------------------------------------------\")"
   ]
  },
  {
   "cell_type": "code",
   "execution_count": 6,
   "id": "surface-matrix",
   "metadata": {},
   "outputs": [
    {
     "name": "stdout",
     "output_type": "stream",
     "text": [
      "Sex 값 분포 : \n",
      " male      577\n",
      "female    314\n",
      "Name: Sex, dtype: int64\n",
      "----------------------------------------------------\n",
      "cabin 값 분포 : \n",
      " N              687\n",
      "C23 C25 C27      4\n",
      "B96 B98          4\n",
      "G6               4\n",
      "E101             3\n",
      "              ... \n",
      "A5               1\n",
      "B42              1\n",
      "E34              1\n",
      "B79              1\n",
      "B80              1\n",
      "Name: Cabin, Length: 148, dtype: int64\n",
      "----------------------------------------------------\n",
      "Embarked 값 분포 : \n",
      " S    644\n",
      "C    168\n",
      "Q     77\n",
      "N      2\n",
      "Name: Embarked, dtype: int64\n",
      "----------------------------------------------------\n"
     ]
    }
   ],
   "source": [
    "print('Sex 값 분포 : \\n', titanic_df['Sex'].value_counts())\n",
    "print(\"----------------------------------------------------\")\n",
    "\n",
    "print('cabin 값 분포 : \\n', titanic_df['Cabin'].value_counts())\n",
    "print(\"----------------------------------------------------\")\n",
    "\n",
    "print('Embarked 값 분포 : \\n', titanic_df['Embarked'].value_counts())\n",
    "print(\"----------------------------------------------------\")"
   ]
  },
  {
   "cell_type": "code",
   "execution_count": 8,
   "id": "documentary-mission",
   "metadata": {},
   "outputs": [
    {
     "name": "stdout",
     "output_type": "stream",
     "text": [
      "0    N\n",
      "1    C\n",
      "2    N\n",
      "Name: Cabin, dtype: object\n",
      "----------------------------------------------------\n"
     ]
    }
   ],
   "source": [
    "titanic_df['Cabin'] = titanic_df['Cabin'].str[:1]\n",
    "print(titanic_df['Cabin'].head(3))\n",
    "print(\"----------------------------------------------------\")"
   ]
  },
  {
   "cell_type": "code",
   "execution_count": 9,
   "id": "recognized-clerk",
   "metadata": {},
   "outputs": [
    {
     "data": {
      "text/plain": [
       "Sex     Survived\n",
       "female  0            81\n",
       "        1           233\n",
       "male    0           468\n",
       "        1           109\n",
       "Name: Survived, dtype: int64"
      ]
     },
     "execution_count": 9,
     "metadata": {},
     "output_type": "execute_result"
    }
   ],
   "source": [
    "titanic_df.groupby(['Sex', 'Survived'])['Survived'].count()"
   ]
  },
  {
   "cell_type": "code",
   "execution_count": 10,
   "id": "attended-adjustment",
   "metadata": {},
   "outputs": [
    {
     "data": {
      "text/plain": [
       "<AxesSubplot:xlabel='Sex', ylabel='Survived'>"
      ]
     },
     "execution_count": 10,
     "metadata": {},
     "output_type": "execute_result"
    },
    {
     "data": {
      "image/png": "[encoded data removed]",
      "text/plain": [
       "<Figure size 432x288 with 1 Axes>"
      ]
     },
     "metadata": {
      "needs_background": "light"
     },
     "output_type": "display_data"
    }
   ],
   "source": [
    "sns.barplot(x = 'Sex', y = 'Survived', data = titanic_df)"
   ]
  },
  {
   "cell_type": "code",
   "execution_count": 11,
   "id": "uniform-costa",
   "metadata": {},
   "outputs": [
    {
     "data": {
      "text/plain": [
       "<AxesSubplot:xlabel='Pclass', ylabel='Survived'>"
      ]
     },
     "execution_count": 11,
     "metadata": {},
     "output_type": "execute_result"
    },
    {
     "data": {
      "image/png": "[encoded data removed]",
      "text/plain": [
       "<Figure size 432x288 with 1 Axes>"
      ]
     },
     "metadata": {
      "needs_background": "light"
     },
     "output_type": "display_data"
    }
   ],
   "source": [
    "sns.barplot(x = 'Pclass', y = 'Survived', hue = 'Sex', data = titanic_df)"
   ]
  },
  {
   "cell_type": "code",
   "execution_count": 13,
   "id": "improving-regard",
   "metadata": {},
   "outputs": [
    {
     "data": {
      "image/png": "[encoded data removed]",
      "text/plain": [
       "<Figure size 720x432 with 1 Axes>"
      ]
     },
     "metadata": {
      "needs_background": "light"
     },
     "output_type": "display_data"
    }
   ],
   "source": [
    "def get_category(age):\n",
    "    cat = ''\n",
    "    if age <= -1 : cat = 'Unknown'\n",
    "    elif age <= 5 : cat = 'Baby'\n",
    "    elif age <=12 : cat = 'Child'\n",
    "    elif age <=18 : cat = 'Teenager'\n",
    "    elif age <= 25 : cat = 'Student'\n",
    "    elif age <= 35 : cat = 'Young Adult'\n",
    "    elif age <= 60 : cat = 'Adult'\n",
    "    else : cat = 'Elderly'\n",
    "    \n",
    "    return cat\n",
    "\n",
    "plt.figure(figsize = (10,6))\n",
    "\n",
    "group_names = ['Unknown', 'Baby', 'Child', 'Teenager', 'Student', 'Young Adult', 'Adult', 'Elderly']\n",
    "\n",
    "titanic_df['Age_cat'] = titanic_df['Age'].apply(lambda x :get_category(x))\n",
    "sns.barplot(x = 'Age_cat', y='Survived', hue = 'Sex', data = titanic_df, order = group_names)\n",
    "titanic_df.drop('Age_cat', axis = 1, inplace =True)"
   ]
  },
  {
   "cell_type": "code",
   "execution_count": 16,
   "id": "collaborative-variance",
   "metadata": {},
   "outputs": [
    {
     "name": "stdout",
     "output_type": "stream",
     "text": [
      "   PassengerId  Survived  Pclass  \\\n",
      "0            1         0       3   \n",
      "1            2         1       1   \n",
      "2            3         1       3   \n",
      "3            4         1       1   \n",
      "4            5         0       3   \n",
      "\n",
      "                                                Name  Sex   Age  SibSp  Parch  \\\n",
      "0                            Braund, Mr. Owen Harris    1  22.0      1      0   \n",
      "1  Cumings, Mrs. John Bradley (Florence Briggs Th...    0  38.0      1      0   \n",
      "2                             Heikkinen, Miss. Laina    0  26.0      0      0   \n",
      "3       Futrelle, Mrs. Jacques Heath (Lily May Peel)    0  35.0      1      0   \n",
      "4                           Allen, Mr. William Henry    1  35.0      0      0   \n",
      "\n",
      "             Ticket     Fare  Cabin  Embarked  \n",
      "0         A/5 21171   7.2500      7         3  \n",
      "1          PC 17599  71.2833      2         0  \n",
      "2  STON/O2. 3101282   7.9250      7         3  \n",
      "3            113803  53.1000      2         3  \n",
      "4            373450   8.0500      7         3  \n",
      "----------------------------------------------------\n"
     ]
    }
   ],
   "source": [
    "from sklearn import preprocessing\n",
    "\n",
    "def encode_features(dataDF):\n",
    "    features = ['Cabin', 'Sex', 'Embarked']\n",
    "    for feature in features:\n",
    "        le = preprocessing.LabelEncoder()\n",
    "        le = le.fit(dataDF[feature])\n",
    "        dataDF[feature] = le.transform(dataDF[feature])\n",
    "        \n",
    "    return dataDF\n",
    "\n",
    "titanic_df = encode_features(titanic_df)\n",
    "print(titanic_df.head())\n",
    "print(\"----------------------------------------------------\")"
   ]
  },
  {
   "cell_type": "code",
   "execution_count": 19,
   "id": "center-correspondence",
   "metadata": {},
   "outputs": [],
   "source": [
    "# null 처리 함수 \n",
    "def fillna(df):\n",
    "    df['Age'].fillna(df['Age'].mean(), inplace=True)\n",
    "    df['Cabin'].fillna('N', inplace=True)\n",
    "    df['Embarked'].fillna('N', inplace=True)\n",
    "    df['Fare'].fillna(0, inplace = True)\n",
    "                     \n",
    "    return df\n",
    "\n",
    "# 불피요한 속성 제거 \n",
    "def drop_features(df):\n",
    "    df.drop(['PassengerId', 'Name', 'Ticket'], axis = 1, inplace = True)\n",
    "    return df\n",
    "\n",
    "# 레이블 인코딩 수행\n",
    "def format_features(df):\n",
    "    df['Cabin'] = df['Cabin'].str[:1]\n",
    "    features = ['Cabin', 'Sex', 'Embarked']\n",
    "    for feature in features:\n",
    "        le = preprocessing.LabelEncoder()\n",
    "        le = le.fit(df[feature])\n",
    "        df[feature] = le.transform(df[feature])\n",
    "        \n",
    "    return df\n",
    "\n",
    "\n",
    "# 전처리 함수 호출\n",
    "def transform_features(df):\n",
    "    df = fillna(df)\n",
    "    df = drop_features(df)\n",
    "    df = format_features(df)\n",
    "    return df"
   ]
  },
  {
   "cell_type": "code",
   "execution_count": 20,
   "id": "printable-williams",
   "metadata": {},
   "outputs": [],
   "source": [
    "titanic_df = pd.read_csv('./titanic_train.csv')\n",
    "y_titanic_df = titanic_df['Survived']\n",
    "x_titanic_df = titanic_df.drop('Survived', axis = 1)\n",
    "\n",
    "x_titanic_df = transform_features(x_titanic_df)"
   ]
  },
  {
   "cell_type": "code",
   "execution_count": 21,
   "id": "happy-example",
   "metadata": {},
   "outputs": [],
   "source": [
    "from sklearn.model_selection import train_test_split\n",
    "x_train, x_test, y_train, y_test = train_test_split(x_titanic_df, y_titanic_df, test_size=0.2, random_state=11)"
   ]
  },
  {
   "cell_type": "code",
   "execution_count": 22,
   "id": "fifteen-shaft",
   "metadata": {},
   "outputs": [
    {
     "name": "stdout",
     "output_type": "stream",
     "text": [
      "DecisionTreeClassifier 정확도 : 0.7877\n",
      "----------------------------------------------------\n",
      "RandomForestClassifier 정확도 : 0.8547\n",
      "----------------------------------------------------\n",
      "LogisticRegrssion 정확도 : 0.8492\n",
      "----------------------------------------------------\n"
     ]
    },
    {
     "name": "stderr",
     "output_type": "stream",
     "text": [
      "/Users/qook/Python/3.7/venv/lib/python3.7/site-packages/sklearn/linear_model/_logistic.py:765: ConvergenceWarning: lbfgs failed to converge (status=1):\n",
      "STOP: TOTAL NO. of ITERATIONS REACHED LIMIT.\n",
      "\n",
      "Increase the number of iterations (max_iter) or scale the data as shown in:\n",
      "    https://scikit-learn.org/stable/modules/preprocessing.html\n",
      "Please also refer to the documentation for alternative solver options:\n",
      "    https://scikit-learn.org/stable/modules/linear_model.html#logistic-regression\n",
      "  extra_warning_msg=_LOGISTIC_SOLVER_CONVERGENCE_MSG)\n"
     ]
    }
   ],
   "source": [
    "from sklearn.tree import DecisionTreeClassifier\n",
    "from sklearn.linear_model import LogisticRegression\n",
    "from sklearn.ensemble import RandomForestClassifier\n",
    "from sklearn.metrics import accuracy_score\n",
    "\n",
    "dt_clf = DecisionTreeClassifier(random_state=11)\n",
    "rf_clf = RandomForestClassifier(random_state=11)\n",
    "lr_clf = LogisticRegression()\n",
    "\n",
    "dt_clf.fit(x_train, y_train)\n",
    "dt_pred = dt_clf.predict(x_test)\n",
    "print('DecisionTreeClassifier 정확도 : {0:.4f}'.format(accuracy_score(y_test, dt_pred)))\n",
    "print(\"----------------------------------------------------\")\n",
    "\n",
    "rf_clf.fit(x_train, y_train)\n",
    "rf_pred = rf_clf.predict(x_test)\n",
    "print('RandomForestClassifier 정확도 : {0:.4f}'.format(accuracy_score(y_test, rf_pred)))\n",
    "print(\"----------------------------------------------------\")\n",
    "\n",
    "lr_clf.fit(x_train, y_train)\n",
    "lr_pred = lr_clf.predict(x_test)\n",
    "print('LogisticRegrssion 정확도 : {0:.4f}'.format(accuracy_score(y_test, lr_pred)))\n",
    "print(\"----------------------------------------------------\")"
   ]
  }
 ],
 "metadata": {
  "kernelspec": {
   "display_name": "Python 3",
   "language": "python",
   "name": "python3"
  },
  "language_info": {
   "codemirror_mode": {
    "name": "ipython",
    "version": 3
   },
   "file_extension": ".py",
   "mimetype": "text/x-python",
   "name": "python",
   "nbconvert_exporter": "python",
   "pygments_lexer": "ipython3",
   "version": "3.7.3"
  }
 },
 "nbformat": 4,
 "nbformat_minor": 5
}
